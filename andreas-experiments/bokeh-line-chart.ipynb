{
 "cells": [
  {
   "cell_type": "markdown",
   "metadata": {},
   "source": [
    "# Bokeh Line Chart"
   ]
  },
  {
   "cell_type": "code",
   "execution_count": null,
   "metadata": {},
   "outputs": [
    {
     "name": "stdout",
     "output_type": "stream",
     "text": [
      "business_id        0\n",
      "name               0\n",
      "address            0\n",
      "city               0\n",
      "state              0\n",
      "postal_code        0\n",
      "latitude           0\n",
      "longitude          0\n",
      "business_stars     0\n",
      "review_count       0\n",
      "is_open            0\n",
      "categories         0\n",
      "hours_Monday       0\n",
      "hours_Tuesday      0\n",
      "hours_Wednesday    0\n",
      "hours_Thursday     0\n",
      "hours_Friday       0\n",
      "hours_Saturday     0\n",
      "hours_Sunday       0\n",
      "review_id          0\n",
      "review_stars       0\n",
      "date               0\n",
      "dtype: int64\n"
     ]
    }
   ],
   "source": [
    "# Import data\n",
    "import pandas as pd\n",
    "df_business = pd.read_csv(\"../data/cleaned_businessV2.csv\")\n",
    "df_review = pd.read_csv(\"../data/crosslisted_reviews.csv\")\n",
    "\n",
    "# Rename \"stars\", so we know where each column come from\n",
    "df_business.rename(columns={'stars' : 'business_stars'}, inplace=True)\n",
    "df_review.rename(columns={'stars' : 'review_stars'}, inplace=True)\n",
    "\n",
    "# Join the two tables\n",
    "df_joined = pd.merge(df_business, df_review, on=\"business_id\", how=\"inner\")\n",
    "# Convert column types to string\n",
    "df_joined = df_joined.convert_dtypes()\n",
    "df_joined[\"review_stars\"] = df_joined[\"review_stars\"].astype(float)\n",
    "\n",
    "# Check for NaN\n",
    "#print(df_joined.isna().sum())\n",
    "\n",
    "# Drop columns with null address and postal code. \n",
    "# Turnned out the ones without postal codes also did not have addresses \n",
    "df_joined.dropna(subset=\"address\", inplace=True)\n",
    "print(df_joined.isna().sum())\n"
   ]
  },
  {
   "cell_type": "code",
   "execution_count": 26,
   "metadata": {},
   "outputs": [
    {
     "data": {
      "text/plain": [
       "0    2014-05-26 01:09:53\n",
       "1    2013-10-05 15:19:06\n",
       "2    2013-10-25 01:34:57\n",
       "3    2018-05-20 17:58:57\n",
       "4    2013-10-25 02:31:35\n",
       "Name: date, dtype: string"
      ]
     },
     "execution_count": 26,
     "metadata": {},
     "output_type": "execute_result"
    }
   ],
   "source": [
    "df_joined[\"date\"].head()"
   ]
  },
  {
   "cell_type": "code",
   "execution_count": 36,
   "metadata": {},
   "outputs": [
    {
     "data": {
      "text/plain": [
       "category_of_interest  Year\n",
       "Chinese               2005    4.000000\n",
       "                      2006    4.058824\n",
       "Name: review_stars, dtype: float64"
      ]
     },
     "execution_count": 36,
     "metadata": {},
     "output_type": "execute_result"
    }
   ],
   "source": [
    "# Define kinds of restaurants we are interested in. May need to delete this later\n",
    "# to allow the user to define this with UI\n",
    "categories_of_interest = ['Chinese', 'Japanese', 'Italian', 'Polish', 'Scandinavian']\n",
    "\n",
    "# Create new column containing a specific category of interest. \n",
    "# If not in interest, label the column value \"Other\"\n",
    "df_joined['category_of_interest'] = \"Other\"\n",
    "for item in categories_of_interest:\n",
    "    df_joined.loc[df_joined['categories'].str.contains(item), 'category_of_interest'] = item\n",
    "\n",
    "# Extract the year from the date time string.\n",
    "df_joined[\"Year\"] = df_joined[\"date\"].apply(lambda x: x.split(\"-\")[0])\n",
    "\n",
    "df_grouped = df_joined.groupby(['category_of_interest', \"Year\"])[\"review_stars\"].mean()\n",
    "df_grouped.head(2)\n"
   ]
  },
  {
   "cell_type": "code",
   "execution_count": 35,
   "metadata": {},
   "outputs": [
    {
     "data": {
      "text/html": [
       "<div>\n",
       "<style scoped>\n",
       "    .dataframe tbody tr th:only-of-type {\n",
       "        vertical-align: middle;\n",
       "    }\n",
       "\n",
       "    .dataframe tbody tr th {\n",
       "        vertical-align: top;\n",
       "    }\n",
       "\n",
       "    .dataframe thead th {\n",
       "        text-align: right;\n",
       "    }\n",
       "</style>\n",
       "<table border=\"1\" class=\"dataframe\">\n",
       "  <thead>\n",
       "    <tr style=\"text-align: right;\">\n",
       "      <th>category_of_interest</th>\n",
       "      <th>Chinese</th>\n",
       "      <th>Italian</th>\n",
       "      <th>Japanese</th>\n",
       "      <th>Other</th>\n",
       "      <th>Polish</th>\n",
       "      <th>Scandinavian</th>\n",
       "    </tr>\n",
       "    <tr>\n",
       "      <th>Year</th>\n",
       "      <th></th>\n",
       "      <th></th>\n",
       "      <th></th>\n",
       "      <th></th>\n",
       "      <th></th>\n",
       "      <th></th>\n",
       "    </tr>\n",
       "  </thead>\n",
       "  <tbody>\n",
       "    <tr>\n",
       "      <th>2005</th>\n",
       "      <td>4.000000</td>\n",
       "      <td>3.944444</td>\n",
       "      <td>4.500000</td>\n",
       "      <td>3.915493</td>\n",
       "      <td>NaN</td>\n",
       "      <td>NaN</td>\n",
       "    </tr>\n",
       "    <tr>\n",
       "      <th>2006</th>\n",
       "      <td>4.058824</td>\n",
       "      <td>4.024390</td>\n",
       "      <td>4.305556</td>\n",
       "      <td>3.937722</td>\n",
       "      <td>5.0</td>\n",
       "      <td>NaN</td>\n",
       "    </tr>\n",
       "  </tbody>\n",
       "</table>\n",
       "</div>"
      ],
      "text/plain": [
       "category_of_interest   Chinese   Italian  Japanese     Other  Polish  \\\n",
       "Year                                                                   \n",
       "2005                  4.000000  3.944444  4.500000  3.915493     NaN   \n",
       "2006                  4.058824  4.024390  4.305556  3.937722     5.0   \n",
       "\n",
       "category_of_interest  Scandinavian  \n",
       "Year                                \n",
       "2005                           NaN  \n",
       "2006                           NaN  "
      ]
     },
     "execution_count": 35,
     "metadata": {},
     "output_type": "execute_result"
    }
   ],
   "source": [
    "df_unstacked = df_grouped.unstack(\"category_of_interest\")\n",
    "df_unstacked.head(2)"
   ]
  },
  {
   "cell_type": "code",
   "execution_count": 41,
   "metadata": {},
   "outputs": [
    {
     "name": "stdout",
     "output_type": "stream",
     "text": [
      "Index(['Chinese', 'Italian', 'Japanese', 'Other', 'Polish', 'Scandinavian'], dtype='object', name='category_of_interest')\n"
     ]
    }
   ],
   "source": [
    "from bokeh.plotting import figure, show\n",
    "from bokeh.palettes import Colorblind\n",
    "\n",
    "# create a new plot with a title and axis labels\n",
    "p = figure(title=\"Average Rating by Category\", \n",
    "           x_axis_label='Year', \n",
    "           y_axis_label='Rating')\n",
    "\n",
    "# Get a list of colorblind friendly colors of length = len(categories_of_interest) \n",
    "colors = Colorblind[len(categories_of_interest)]\n",
    "\n",
    "print(df_unstacked.columns)\n",
    "\n",
    "#for category in categories_of_interest:\n",
    "#    # add a line renderer with legend and line thickness to the plot\n",
    "#    p.line(df_unstacked[\"Year\"], df_unstacked[category], legend_label=\"Temp.\", line_width=2)"
   ]
  }
 ],
 "metadata": {
  "kernelspec": {
   "display_name": "Python 3",
   "language": "python",
   "name": "python3"
  },
  "language_info": {
   "codemirror_mode": {
    "name": "ipython",
    "version": 3
   },
   "file_extension": ".py",
   "mimetype": "text/x-python",
   "name": "python",
   "nbconvert_exporter": "python",
   "pygments_lexer": "ipython3",
   "version": "3.12.7"
  }
 },
 "nbformat": 4,
 "nbformat_minor": 2
}
