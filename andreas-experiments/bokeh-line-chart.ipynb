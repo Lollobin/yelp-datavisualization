{
 "cells": [
  {
   "cell_type": "markdown",
   "metadata": {},
   "source": [
    "# Bokeh Line Chart"
   ]
  },
  {
   "cell_type": "code",
   "execution_count": null,
   "metadata": {},
   "outputs": [
    {
     "name": "stdout",
     "output_type": "stream",
     "text": [
      "business_id        0\n",
      "name               0\n",
      "address            0\n",
      "city               0\n",
      "state              0\n",
      "postal_code        0\n",
      "latitude           0\n",
      "longitude          0\n",
      "business_stars     0\n",
      "review_count       0\n",
      "is_open            0\n",
      "categories         0\n",
      "hours_Monday       0\n",
      "hours_Tuesday      0\n",
      "hours_Wednesday    0\n",
      "hours_Thursday     0\n",
      "hours_Friday       0\n",
      "hours_Saturday     0\n",
      "hours_Sunday       0\n",
      "review_id          0\n",
      "review_stars       0\n",
      "date               0\n",
      "dtype: int64\n"
     ]
    }
   ],
   "source": [
    "# Import data\n",
    "import pandas as pd\n",
    "df_business = pd.read_csv(\"../data/cleaned_businessV2.csv\")\n",
    "df_review = pd.read_csv(\"../data/crosslisted_reviews.csv\")\n",
    "\n",
    "# Rename \"stars\", so we know where each column come from\n",
    "df_business.rename(columns={'stars' : 'business_stars'}, inplace=True)\n",
    "df_review.rename(columns={'stars' : 'review_stars'}, inplace=True)\n",
    "\n",
    "# Join the two tables\n",
    "df_joined = pd.merge(df_business, df_review, on=\"business_id\", how=\"inner\")\n",
    "# Convert column types to string\n",
    "df_joined = df_joined.convert_dtypes()\n",
    "df_joined[\"review_stars\"] = df_joined[\"review_stars\"].astype(float)\n",
    "\n",
    "# Check for NaN\n",
    "#print(df_joined.isna().sum())\n",
    "\n",
    "# Drop columns with NaN values in address and postal code. \n",
    "# It turned out that the rows without postal codes also did not have addresses \n",
    "df_joined.dropna(subset=\"address\", inplace=True)\n",
    "print(df_joined.isna().sum())\n"
   ]
  },
  {
   "cell_type": "code",
   "execution_count": 130,
   "metadata": {},
   "outputs": [
    {
     "data": {
      "text/plain": [
       "category_of_interest  Year\n",
       "Chinese               2005    4.000000\n",
       "                      2006    4.058824\n",
       "                      2007    3.923387\n",
       "                      2008    3.830046\n",
       "                      2009    3.745217\n",
       "                      2010    3.776471\n",
       "                      2011    3.733413\n",
       "                      2012    3.800978\n",
       "                      2013    3.781028\n",
       "                      2014    3.876858\n",
       "                      2015    3.848823\n",
       "                      2016    3.817176\n",
       "                      2017    3.864823\n",
       "                      2018    3.893726\n",
       "                      2019    3.870541\n",
       "                      2020    3.902753\n",
       "                      2021    4.017069\n",
       "                      2022    3.981250\n",
       "Italian               2005    3.944444\n",
       "                      2006    4.024390\n",
       "Name: review_stars, dtype: float64"
      ]
     },
     "execution_count": 130,
     "metadata": {},
     "output_type": "execute_result"
    }
   ],
   "source": [
    "# Define kinds of restaurants we are interested in. May need to delete this later\n",
    "# to allow the user to define this with UI\n",
    "categories_of_interest = ['Chinese', 'Japanese', 'Italian', 'Polish', 'Scandinavian']\n",
    "\n",
    "# Create new column containing a specific category of interest. \n",
    "# If not in interest, label the column value \"Other\"\n",
    "df_joined['category_of_interest'] = \"Other\"\n",
    "for item in categories_of_interest:\n",
    "    df_joined.loc[df_joined['categories'].str.contains(item), 'category_of_interest'] = item\n",
    "\n",
    "# Extract the year from the date time string.\n",
    "df_joined[\"Year\"] = df_joined[\"date\"].apply(lambda x: x.split(\"-\")[0])\n",
    "\n",
    "df_grouped = df_joined.groupby(['category_of_interest', \"Year\"])[\"review_stars\"].mean()\n",
    "df_grouped.head(20)\n"
   ]
  },
  {
   "cell_type": "code",
   "execution_count": null,
   "metadata": {},
   "outputs": [
    {
     "data": {
      "text/html": [
       "\n",
       "  <div id=\"e3a1114f-c14c-4a4d-95f8-1dfdcfe1a49b\" data-root-id=\"p4166\" style=\"display: contents;\"></div>\n"
      ]
     },
     "metadata": {},
     "output_type": "display_data"
    },
    {
     "data": {
      "application/javascript": "(function(root) {\n  function embed_document(root) {\n  const docs_json = {\"6b386716-6300-4054-ada1-0c390aed2abe\":{\"version\":\"3.6.0\",\"title\":\"Bokeh Application\",\"roots\":[{\"type\":\"object\",\"name\":\"Figure\",\"id\":\"p4166\",\"attributes\":{\"x_range\":{\"type\":\"object\",\"name\":\"Range1d\",\"id\":\"p4176\",\"attributes\":{\"start\":2005,\"end\":2022}},\"y_range\":{\"type\":\"object\",\"name\":\"Range1d\",\"id\":\"p4177\",\"attributes\":{\"start\":2.1666666666666665,\"end\":5.5}},\"x_scale\":{\"type\":\"object\",\"name\":\"LinearScale\",\"id\":\"p4178\"},\"y_scale\":{\"type\":\"object\",\"name\":\"LinearScale\",\"id\":\"p4179\"},\"title\":{\"type\":\"object\",\"name\":\"Title\",\"id\":\"p4169\",\"attributes\":{\"text\":\"Average Rating Throughout the Years by Category\"}},\"renderers\":[{\"type\":\"object\",\"name\":\"GlyphRenderer\",\"id\":\"p4209\",\"attributes\":{\"data_source\":{\"type\":\"object\",\"name\":\"ColumnDataSource\",\"id\":\"p4203\",\"attributes\":{\"selected\":{\"type\":\"object\",\"name\":\"Selection\",\"id\":\"p4204\",\"attributes\":{\"indices\":[],\"line_indices\":[]}},\"selection_policy\":{\"type\":\"object\",\"name\":\"UnionRenderers\",\"id\":\"p4205\"},\"data\":{\"type\":\"map\",\"entries\":[[\"x\",[\"2005\",\"2006\",\"2007\",\"2008\",\"2009\",\"2010\",\"2011\",\"2012\",\"2013\",\"2014\",\"2015\",\"2016\",\"2017\",\"2018\",\"2019\",\"2020\",\"2021\",\"2022\"]],[\"y\",[4.0,4.0588235294117645,3.9233870967741935,3.8300455235204858,3.745217391304348,3.776470588235294,3.7334132693844926,3.8009776536312847,3.7810276679841897,3.8768582205458175,3.848823016564952,3.817175504374219,3.8648228176318065,3.8937264312649984,3.870540639941155,3.902753108348135,4.017068645640074,3.98125]]]}}},\"view\":{\"type\":\"object\",\"name\":\"CDSView\",\"id\":\"p4210\",\"attributes\":{\"filter\":{\"type\":\"object\",\"name\":\"AllIndices\",\"id\":\"p4211\"}}},\"glyph\":{\"type\":\"object\",\"name\":\"Line\",\"id\":\"p4206\",\"attributes\":{\"x\":{\"type\":\"field\",\"field\":\"x\"},\"y\":{\"type\":\"field\",\"field\":\"y\"},\"line_color\":\"#0072B2\",\"line_width\":2}},\"nonselection_glyph\":{\"type\":\"object\",\"name\":\"Line\",\"id\":\"p4207\",\"attributes\":{\"x\":{\"type\":\"field\",\"field\":\"x\"},\"y\":{\"type\":\"field\",\"field\":\"y\"},\"line_color\":\"#0072B2\",\"line_alpha\":0.1,\"line_width\":2}},\"muted_glyph\":{\"type\":\"object\",\"name\":\"Line\",\"id\":\"p4208\",\"attributes\":{\"x\":{\"type\":\"field\",\"field\":\"x\"},\"y\":{\"type\":\"field\",\"field\":\"y\"},\"line_color\":\"#0072B2\",\"line_alpha\":0.2,\"line_width\":2}}}},{\"type\":\"object\",\"name\":\"GlyphRenderer\",\"id\":\"p4220\",\"attributes\":{\"data_source\":{\"type\":\"object\",\"name\":\"ColumnDataSource\",\"id\":\"p4214\",\"attributes\":{\"selected\":{\"type\":\"object\",\"name\":\"Selection\",\"id\":\"p4215\",\"attributes\":{\"indices\":[],\"line_indices\":[]}},\"selection_policy\":{\"type\":\"object\",\"name\":\"UnionRenderers\",\"id\":\"p4216\"},\"data\":{\"type\":\"map\",\"entries\":[[\"x\",[\"2005\",\"2006\",\"2007\",\"2008\",\"2009\",\"2010\",\"2011\",\"2012\",\"2013\",\"2014\",\"2015\",\"2016\",\"2017\",\"2018\",\"2019\",\"2020\",\"2021\",\"2022\"]],[\"y\",[4.5,4.305555555555555,3.8074074074074074,3.6823027718550105,3.698529411764706,3.694879089615932,3.6550883607556366,3.584503631961259,3.66260162601626,3.8244201030927836,3.8250155957579537,3.8585005279831046,3.9492235642100075,4.073821066549141,4.151876465989054,4.157320099255583,4.108928571428572,4.266129032258065]]]}}},\"view\":{\"type\":\"object\",\"name\":\"CDSView\",\"id\":\"p4221\",\"attributes\":{\"filter\":{\"type\":\"object\",\"name\":\"AllIndices\",\"id\":\"p4222\"}}},\"glyph\":{\"type\":\"object\",\"name\":\"Line\",\"id\":\"p4217\",\"attributes\":{\"x\":{\"type\":\"field\",\"field\":\"x\"},\"y\":{\"type\":\"field\",\"field\":\"y\"},\"line_color\":\"#E69F00\",\"line_width\":2}},\"nonselection_glyph\":{\"type\":\"object\",\"name\":\"Line\",\"id\":\"p4218\",\"attributes\":{\"x\":{\"type\":\"field\",\"field\":\"x\"},\"y\":{\"type\":\"field\",\"field\":\"y\"},\"line_color\":\"#E69F00\",\"line_alpha\":0.1,\"line_width\":2}},\"muted_glyph\":{\"type\":\"object\",\"name\":\"Line\",\"id\":\"p4219\",\"attributes\":{\"x\":{\"type\":\"field\",\"field\":\"x\"},\"y\":{\"type\":\"field\",\"field\":\"y\"},\"line_color\":\"#E69F00\",\"line_alpha\":0.2,\"line_width\":2}}}},{\"type\":\"object\",\"name\":\"GlyphRenderer\",\"id\":\"p4230\",\"attributes\":{\"data_source\":{\"type\":\"object\",\"name\":\"ColumnDataSource\",\"id\":\"p4224\",\"attributes\":{\"selected\":{\"type\":\"object\",\"name\":\"Selection\",\"id\":\"p4225\",\"attributes\":{\"indices\":[],\"line_indices\":[]}},\"selection_policy\":{\"type\":\"object\",\"name\":\"UnionRenderers\",\"id\":\"p4226\"},\"data\":{\"type\":\"map\",\"entries\":[[\"x\",[\"2005\",\"2006\",\"2007\",\"2008\",\"2009\",\"2010\",\"2011\",\"2012\",\"2013\",\"2014\",\"2015\",\"2016\",\"2017\",\"2018\",\"2019\",\"2020\",\"2021\",\"2022\"]],[\"y\",[3.9444444444444446,4.024390243902439,3.792682926829268,3.7082706766917295,3.665948275862069,3.69862315145334,3.7150986342943852,3.71000965561635,3.717948717948718,3.7486744432661716,3.8046144505160897,3.809181685338529,3.8909911038716953,3.891843971631206,3.885822306238185,4.017605633802817,3.928091565065937,4.1063829787234045]]]}}},\"view\":{\"type\":\"object\",\"name\":\"CDSView\",\"id\":\"p4231\",\"attributes\":{\"filter\":{\"type\":\"object\",\"name\":\"AllIndices\",\"id\":\"p4232\"}}},\"glyph\":{\"type\":\"object\",\"name\":\"Line\",\"id\":\"p4227\",\"attributes\":{\"x\":{\"type\":\"field\",\"field\":\"x\"},\"y\":{\"type\":\"field\",\"field\":\"y\"},\"line_color\":\"#F0E442\",\"line_width\":2}},\"nonselection_glyph\":{\"type\":\"object\",\"name\":\"Line\",\"id\":\"p4228\",\"attributes\":{\"x\":{\"type\":\"field\",\"field\":\"x\"},\"y\":{\"type\":\"field\",\"field\":\"y\"},\"line_color\":\"#F0E442\",\"line_alpha\":0.1,\"line_width\":2}},\"muted_glyph\":{\"type\":\"object\",\"name\":\"Line\",\"id\":\"p4229\",\"attributes\":{\"x\":{\"type\":\"field\",\"field\":\"x\"},\"y\":{\"type\":\"field\",\"field\":\"y\"},\"line_color\":\"#F0E442\",\"line_alpha\":0.2,\"line_width\":2}}}},{\"type\":\"object\",\"name\":\"GlyphRenderer\",\"id\":\"p4240\",\"attributes\":{\"data_source\":{\"type\":\"object\",\"name\":\"ColumnDataSource\",\"id\":\"p4234\",\"attributes\":{\"selected\":{\"type\":\"object\",\"name\":\"Selection\",\"id\":\"p4235\",\"attributes\":{\"indices\":[],\"line_indices\":[]}},\"selection_policy\":{\"type\":\"object\",\"name\":\"UnionRenderers\",\"id\":\"p4236\"},\"data\":{\"type\":\"map\",\"entries\":[[\"x\",[\"2006\",\"2007\",\"2008\",\"2009\",\"2010\",\"2011\",\"2012\",\"2013\",\"2014\",\"2015\",\"2016\",\"2017\",\"2018\",\"2019\",\"2020\",\"2021\",\"2022\"]],[\"y\",[5.0,2.6666666666666665,3.375,3.6666666666666665,3.7037037037037037,4.3,4.0,3.951219512195122,4.408163265306122,4.333333333333333,4.716666666666667,4.3538461538461535,4.457831325301205,4.658536585365853,4.552631578947368,4.543478260869565,4.0]]]}}},\"view\":{\"type\":\"object\",\"name\":\"CDSView\",\"id\":\"p4241\",\"attributes\":{\"filter\":{\"type\":\"object\",\"name\":\"AllIndices\",\"id\":\"p4242\"}}},\"glyph\":{\"type\":\"object\",\"name\":\"Line\",\"id\":\"p4237\",\"attributes\":{\"x\":{\"type\":\"field\",\"field\":\"x\"},\"y\":{\"type\":\"field\",\"field\":\"y\"},\"line_color\":\"#009E73\",\"line_width\":2}},\"nonselection_glyph\":{\"type\":\"object\",\"name\":\"Line\",\"id\":\"p4238\",\"attributes\":{\"x\":{\"type\":\"field\",\"field\":\"x\"},\"y\":{\"type\":\"field\",\"field\":\"y\"},\"line_color\":\"#009E73\",\"line_alpha\":0.1,\"line_width\":2}},\"muted_glyph\":{\"type\":\"object\",\"name\":\"Line\",\"id\":\"p4239\",\"attributes\":{\"x\":{\"type\":\"field\",\"field\":\"x\"},\"y\":{\"type\":\"field\",\"field\":\"y\"},\"line_color\":\"#009E73\",\"line_alpha\":0.2,\"line_width\":2}}}},{\"type\":\"object\",\"name\":\"GlyphRenderer\",\"id\":\"p4250\",\"attributes\":{\"data_source\":{\"type\":\"object\",\"name\":\"ColumnDataSource\",\"id\":\"p4244\",\"attributes\":{\"selected\":{\"type\":\"object\",\"name\":\"Selection\",\"id\":\"p4245\",\"attributes\":{\"indices\":[],\"line_indices\":[]}},\"selection_policy\":{\"type\":\"object\",\"name\":\"UnionRenderers\",\"id\":\"p4246\"},\"data\":{\"type\":\"map\",\"entries\":[[\"x\",[\"2013\",\"2014\",\"2015\",\"2016\",\"2017\",\"2018\",\"2019\",\"2020\",\"2021\"]],[\"y\",[4.377049180327869,4.585714285714285,4.6923076923076925,4.464285714285714,4.684210526315789,4.4772727272727275,4.714285714285714,3.888888888888889,4.6]]]}}},\"view\":{\"type\":\"object\",\"name\":\"CDSView\",\"id\":\"p4251\",\"attributes\":{\"filter\":{\"type\":\"object\",\"name\":\"AllIndices\",\"id\":\"p4252\"}}},\"glyph\":{\"type\":\"object\",\"name\":\"Line\",\"id\":\"p4247\",\"attributes\":{\"x\":{\"type\":\"field\",\"field\":\"x\"},\"y\":{\"type\":\"field\",\"field\":\"y\"},\"line_color\":\"#56B4E9\",\"line_width\":2}},\"nonselection_glyph\":{\"type\":\"object\",\"name\":\"Line\",\"id\":\"p4248\",\"attributes\":{\"x\":{\"type\":\"field\",\"field\":\"x\"},\"y\":{\"type\":\"field\",\"field\":\"y\"},\"line_color\":\"#56B4E9\",\"line_alpha\":0.1,\"line_width\":2}},\"muted_glyph\":{\"type\":\"object\",\"name\":\"Line\",\"id\":\"p4249\",\"attributes\":{\"x\":{\"type\":\"field\",\"field\":\"x\"},\"y\":{\"type\":\"field\",\"field\":\"y\"},\"line_color\":\"#56B4E9\",\"line_alpha\":0.2,\"line_width\":2}}}}],\"toolbar\":{\"type\":\"object\",\"name\":\"Toolbar\",\"id\":\"p4175\",\"attributes\":{\"tools\":[{\"type\":\"object\",\"name\":\"PanTool\",\"id\":\"p4190\"},{\"type\":\"object\",\"name\":\"WheelZoomTool\",\"id\":\"p4191\",\"attributes\":{\"renderers\":\"auto\"}},{\"type\":\"object\",\"name\":\"BoxZoomTool\",\"id\":\"p4192\",\"attributes\":{\"overlay\":{\"type\":\"object\",\"name\":\"BoxAnnotation\",\"id\":\"p4193\",\"attributes\":{\"syncable\":false,\"line_color\":\"black\",\"line_alpha\":1.0,\"line_width\":2,\"line_dash\":[4,4],\"fill_color\":\"lightgrey\",\"fill_alpha\":0.5,\"level\":\"overlay\",\"visible\":false,\"left\":{\"type\":\"number\",\"value\":\"nan\"},\"right\":{\"type\":\"number\",\"value\":\"nan\"},\"top\":{\"type\":\"number\",\"value\":\"nan\"},\"bottom\":{\"type\":\"number\",\"value\":\"nan\"},\"left_units\":\"canvas\",\"right_units\":\"canvas\",\"top_units\":\"canvas\",\"bottom_units\":\"canvas\",\"handles\":{\"type\":\"object\",\"name\":\"BoxInteractionHandles\",\"id\":\"p4199\",\"attributes\":{\"all\":{\"type\":\"object\",\"name\":\"AreaVisuals\",\"id\":\"p4198\",\"attributes\":{\"fill_color\":\"white\",\"hover_fill_color\":\"lightgray\"}}}}}}}},{\"type\":\"object\",\"name\":\"SaveTool\",\"id\":\"p4200\"},{\"type\":\"object\",\"name\":\"ResetTool\",\"id\":\"p4201\"},{\"type\":\"object\",\"name\":\"HelpTool\",\"id\":\"p4202\"}]}},\"left\":[{\"type\":\"object\",\"name\":\"LinearAxis\",\"id\":\"p4185\",\"attributes\":{\"ticker\":{\"type\":\"object\",\"name\":\"BasicTicker\",\"id\":\"p4186\",\"attributes\":{\"mantissas\":[1,2,5]}},\"formatter\":{\"type\":\"object\",\"name\":\"BasicTickFormatter\",\"id\":\"p4187\"},\"axis_label\":\"Average Rating\",\"major_label_policy\":{\"type\":\"object\",\"name\":\"AllLabels\",\"id\":\"p4188\"}}}],\"right\":[{\"type\":\"object\",\"name\":\"Legend\",\"id\":\"p4212\",\"attributes\":{\"click_policy\":\"hide\",\"items\":[{\"type\":\"object\",\"name\":\"LegendItem\",\"id\":\"p4213\",\"attributes\":{\"label\":{\"type\":\"value\",\"value\":\"Chinese\"},\"renderers\":[{\"id\":\"p4209\"}]}},{\"type\":\"object\",\"name\":\"LegendItem\",\"id\":\"p4223\",\"attributes\":{\"label\":{\"type\":\"value\",\"value\":\"Japanese\"},\"renderers\":[{\"id\":\"p4220\"}]}},{\"type\":\"object\",\"name\":\"LegendItem\",\"id\":\"p4233\",\"attributes\":{\"label\":{\"type\":\"value\",\"value\":\"Italian\"},\"renderers\":[{\"id\":\"p4230\"}]}},{\"type\":\"object\",\"name\":\"LegendItem\",\"id\":\"p4243\",\"attributes\":{\"label\":{\"type\":\"value\",\"value\":\"Polish\"},\"renderers\":[{\"id\":\"p4240\"}]}},{\"type\":\"object\",\"name\":\"LegendItem\",\"id\":\"p4253\",\"attributes\":{\"label\":{\"type\":\"value\",\"value\":\"Scandinavian\"},\"renderers\":[{\"id\":\"p4250\"}]}}]}}],\"below\":[{\"type\":\"object\",\"name\":\"LinearAxis\",\"id\":\"p4180\",\"attributes\":{\"ticker\":{\"type\":\"object\",\"name\":\"BasicTicker\",\"id\":\"p4181\",\"attributes\":{\"mantissas\":[1,2,5]}},\"formatter\":{\"type\":\"object\",\"name\":\"BasicTickFormatter\",\"id\":\"p4182\"},\"axis_label\":\"Year\",\"major_label_policy\":{\"type\":\"object\",\"name\":\"AllLabels\",\"id\":\"p4183\"}}}],\"center\":[{\"type\":\"object\",\"name\":\"Grid\",\"id\":\"p4184\",\"attributes\":{\"axis\":{\"id\":\"p4180\"}}},{\"type\":\"object\",\"name\":\"Grid\",\"id\":\"p4189\",\"attributes\":{\"dimension\":1,\"axis\":{\"id\":\"p4185\"}}},{\"id\":\"p4212\"}]}}]}};\n  const render_items = [{\"docid\":\"6b386716-6300-4054-ada1-0c390aed2abe\",\"roots\":{\"p4166\":\"e3a1114f-c14c-4a4d-95f8-1dfdcfe1a49b\"},\"root_ids\":[\"p4166\"]}];\n  void root.Bokeh.embed.embed_items_notebook(docs_json, render_items);\n  }\n  if (root.Bokeh !== undefined) {\n    embed_document(root);\n  } else {\n    let attempts = 0;\n    const timer = setInterval(function(root) {\n      if (root.Bokeh !== undefined) {\n        clearInterval(timer);\n        embed_document(root);\n      } else {\n        attempts++;\n        if (attempts > 100) {\n          clearInterval(timer);\n          console.log(\"Bokeh: ERROR: Unable to run BokehJS code because BokehJS library is missing\");\n        }\n      }\n    }, 10, root)\n  }\n})(window);",
      "application/vnd.bokehjs_exec.v0+json": ""
     },
     "metadata": {
      "application/vnd.bokehjs_exec.v0+json": {
       "id": "p4166"
      }
     },
     "output_type": "display_data"
    }
   ],
   "source": [
    "from bokeh.plotting import figure, show\n",
    "from bokeh.palettes import Colorblind\n",
    "\n",
    "# Define the amount of \"air\" around the borders of our plot\n",
    "margin = 0.5\n",
    "\n",
    "# Define the borders for our plot as the min and max \n",
    "# values of the data under analysis plus/minus the margin\n",
    "min_x_val = df_joined[\"Year\"].astype(int).min()\n",
    "max_x_val = df_joined[\"Year\"].astype(int).max()\n",
    "min_y_val = df_grouped[categories_of_interest].astype(float).min() - margin\n",
    "max_y_val = df_grouped[categories_of_interest].astype(float).max() + margin\n",
    "\n",
    "# create a new plot with a title and axis labels\n",
    "p = figure(title=\"Average Rating Throughout the Years by Category\", \n",
    "           x_axis_label='Year', \n",
    "           y_axis_label='Average Rating',\n",
    "           x_range = (min_x_val, max_x_val),\n",
    "           y_range = (min_y_val, max_y_val))\n",
    "\n",
    "# Get a list of color-blind friendly colors of length = len(categories_of_interest) \n",
    "colors = Colorblind[len(categories_of_interest)]\n",
    "\n",
    "# Make a line for each category\n",
    "for i, category in enumerate(categories_of_interest):\n",
    "    x = df_grouped[category].index.tolist()\n",
    "    y = df_grouped[category].tolist()\n",
    "    p.line(x, y, legend_label=category, line_width=2, color = colors[i])\n",
    "\n",
    "# Move legend outside the plot\n",
    "p.add_layout(p.legend[0], 'right')\n",
    "\n",
    "# Hide line when clicked on its legend item\n",
    "p.legend.click_policy = \"hide\"\n",
    "\n",
    "# show the results\n",
    "show(p)"
   ]
  }
 ],
 "metadata": {
  "kernelspec": {
   "display_name": "Python 3",
   "language": "python",
   "name": "python3"
  },
  "language_info": {
   "codemirror_mode": {
    "name": "ipython",
    "version": 3
   },
   "file_extension": ".py",
   "mimetype": "text/x-python",
   "name": "python",
   "nbconvert_exporter": "python",
   "pygments_lexer": "ipython3",
   "version": "3.12.7"
  }
 },
 "nbformat": 4,
 "nbformat_minor": 2
}
